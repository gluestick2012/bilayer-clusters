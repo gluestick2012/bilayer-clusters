{
 "cells": [
  {
   "cell_type": "code",
   "execution_count": 1,
   "metadata": {},
   "outputs": [],
   "source": [
    "import test_all_cluster"
   ]
  },
  {
   "cell_type": "code",
   "execution_count": 2,
   "metadata": {},
   "outputs": [],
   "source": [
    "label1,label2 = test_all_cluster.main()"
   ]
  },
  {
   "cell_type": "code",
   "execution_count": 3,
   "metadata": {},
   "outputs": [
    {
     "name": "stdout",
     "output_type": "stream",
     "text": [
      "[ 0  1  2  0 -1  3  3 -1  0  0  0  0 -1  0  0  4  5  3  0  0  0  0 -1  6\n",
      "  7  0  8  9 10  3 11  0  0  3  0 12  0  3 13  0  0  0 -1  0 14  9 15  9\n",
      "  7 16 -1 17 15 11  4  1  3  5 15  3 -1 18 19 20 -1  5  0 21  0 -1  0  3\n",
      "  0  3  0 20 -1  0  3 -1 21  4 22  3  0  4  1  4 16  0  4  3 15 23  3  0\n",
      "  8 20 13 24]\n"
     ]
    }
   ],
   "source": [
    "print(label1[:100])"
   ]
  },
  {
   "cell_type": "code",
   "execution_count": 4,
   "metadata": {},
   "outputs": [
    {
     "name": "stdout",
     "output_type": "stream",
     "text": [
      "[37 20 29 37 -1 30 30 -1 37 37 37 37 -1 37 37 32 28 30 37 37 37 37 -1 34\n",
      "  0 37 23 25  6 30 22 37 37 30 37  5 37 30  1 37 37 37 -1 37 17 25 21 25\n",
      "  0 13 -1 12 21 22 32 20 30 28 21 30 -1  7 14  2 -1 28 37  9 37 -1 37 30\n",
      " 37 30 37  2 -1 37 30 -1  9 32  8 30 37 32 20 32 13 37 32 30 21  4 30 37\n",
      " 23  2  1  3]\n"
     ]
    }
   ],
   "source": [
    "print(label2[:100])"
   ]
  },
  {
   "cell_type": "code",
   "execution_count": 5,
   "metadata": {},
   "outputs": [],
   "source": [
    "from bilayer_clusters import density_cluster as dc"
   ]
  },
  {
   "cell_type": "code",
   "execution_count": 6,
   "metadata": {},
   "outputs": [
    {
     "name": "stdout",
     "output_type": "stream",
     "text": [
      "[2, 2, 2, 2, 2, 2, 2, 2, 2, 2, 2, 2, 2, 2, 2, 2, 3, 3, 3, 3, 3, 3, 3, 3, 4, 4, 4, 5, 5, 7, 7, 8, 10, 11, 11, 13, 31, 36, 110]\n"
     ]
    }
   ],
   "source": [
    "print(sorted(dc.cluster_sizes(label1).values()))"
   ]
  },
  {
   "cell_type": "code",
   "execution_count": 7,
   "metadata": {},
   "outputs": [
    {
     "name": "stdout",
     "output_type": "stream",
     "text": [
      "[2, 2, 2, 2, 2, 2, 2, 2, 2, 2, 2, 2, 2, 2, 2, 2, 3, 3, 3, 3, 3, 3, 3, 3, 4, 4, 4, 5, 5, 7, 7, 8, 10, 11, 11, 13, 31, 36, 110]\n"
     ]
    }
   ],
   "source": [
    "print(sorted(dc.cluster_sizes(label2).values()))"
   ]
  },
  {
   "cell_type": "code",
   "execution_count": null,
   "metadata": {},
   "outputs": [],
   "source": []
  }
 ],
 "metadata": {
  "kernelspec": {
   "display_name": "Python 3",
   "language": "python",
   "name": "python3"
  },
  "language_info": {
   "codemirror_mode": {
    "name": "ipython",
    "version": 3
   },
   "file_extension": ".py",
   "mimetype": "text/x-python",
   "name": "python",
   "nbconvert_exporter": "python",
   "pygments_lexer": "ipython3",
   "version": "3.6.4"
  }
 },
 "nbformat": 4,
 "nbformat_minor": 2
}
